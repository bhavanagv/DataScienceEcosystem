{
 "cells": [
  {
   "cell_type": "markdown",
   "id": "992a28a3-cd8e-4692-85d9-1540681dd2a4",
   "metadata": {},
   "source": [
    "# Data Science Tools and Ecosystem\n"
   ]
  },
  {
   "cell_type": "markdown",
   "id": "577a59b8-be87-44a2-97ab-706b5b21b9c0",
   "metadata": {},
   "source": [
    "# In this notebook, Data Science Tools and Ecosystem are summarized."
   ]
  },
  {
   "attachments": {},
   "cell_type": "markdown",
   "id": "51e0fb41-2bc2-4de7-a8a6-ea0f3fe0a788",
   "metadata": {},
   "source": [
    "Some of the popular languages that Data Scientists use are:\n",
    "1. Python\n",
    "2. R\n",
    "3. SQL\n"
   ]
  },
  {
   "attachments": {},
   "cell_type": "markdown",
   "id": "2f6c1924-7dfc-44a5-b419-3238cc834e6f",
   "metadata": {},
   "source": [
    "Some of the commonly used libraries used by Data Scientists include:\n",
    "1. NumPy\n",
    "2. Pandas\n",
    "3. Scikit-learn\n",
    "4. TensorFlow\n"
   ]
  },
  {
   "cell_type": "markdown",
   "id": "d4452e90-d81e-4f51-9695-32c8fd3df774",
   "metadata": {},
   "source": [
    "| Data Science Tools     |\n",
    "|-------------------------|\n",
    "| Jupyter Notebook       |\n",
    "| RStudio                |\n",
    "| Visual Studio Code     |\n"
   ]
  },
  {
   "cell_type": "markdown",
   "id": "79286337-a9a7-40e1-89d1-68d823115989",
   "metadata": {},
   "source": [
    "### Below are a few examples of evaluating arithmetic expressions in Python."
   ]
  },
  {
   "cell_type": "code",
   "execution_count": 6,
   "id": "04520a08-219a-4141-a916-936065c46fec",
   "metadata": {},
   "outputs": [
    {
     "data": {
      "text/plain": [
       "17"
      ]
     },
     "execution_count": 6,
     "metadata": {},
     "output_type": "execute_result"
    }
   ],
   "source": [
    "# This a simple arithmetic expression to multiply then add integers\n",
    "(3 * 4) + 5"
   ]
  },
  {
   "cell_type": "code",
   "execution_count": 7,
   "id": "84e34ae8-4b58-4c8f-9e55-746b1382f786",
   "metadata": {},
   "outputs": [
    {
     "data": {
      "text/plain": [
       "3.3333333333333335"
      ]
     },
     "execution_count": 7,
     "metadata": {},
     "output_type": "execute_result"
    }
   ],
   "source": [
    "# This will convert 200 minutes to hours by dividing by 60\n",
    "200 / 60\n"
   ]
  },
  {
   "cell_type": "markdown",
   "id": "bea18b15-b7f6-4dbf-b80d-148bd4b161a2",
   "metadata": {},
   "source": [
    "**Objectives:**\n",
    "- List popular languages for Data Science.\n",
    "- Explore commonly used libraries for Data Science.\n",
    "- Learn about open-source tools for Data Science.\n",
    "- Evaluate arithmetic expressions in Python.\n",
    "- Convert time from minutes to hours.\n"
   ]
  },
  {
   "cell_type": "markdown",
   "id": "50c9a491-8d67-40d5-8087-2ae221e53e46",
   "metadata": {},
   "source": [
    "## Author\n",
    "Bhavana G V"
   ]
  },
  {
   "cell_type": "code",
   "execution_count": null,
   "id": "3f7c57a7-190d-4d43-b6b8-d3c8976f7d72",
   "metadata": {},
   "outputs": [],
   "source": []
  }
 ],
 "metadata": {
  "kernelspec": {
   "display_name": "Python 3 (ipykernel)",
   "language": "python",
   "name": "python3"
  },
  "language_info": {
   "codemirror_mode": {
    "name": "ipython",
    "version": 3
   },
   "file_extension": ".py",
   "mimetype": "text/x-python",
   "name": "python",
   "nbconvert_exporter": "python",
   "pygments_lexer": "ipython3",
   "version": "3.12.6"
  }
 },
 "nbformat": 4,
 "nbformat_minor": 5
}
